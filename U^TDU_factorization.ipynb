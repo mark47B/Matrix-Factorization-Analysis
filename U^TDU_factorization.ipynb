{
  "nbformat": 4,
  "nbformat_minor": 0,
  "metadata": {
    "colab": {
      "provenance": [],
      "authorship_tag": "ABX9TyOuhkxW6p3KUTRd7+3vjwoH",
      "include_colab_link": true
    },
    "kernelspec": {
      "name": "python3",
      "display_name": "Python 3"
    },
    "language_info": {
      "name": "python"
    },
    "gpuClass": "standard"
  },
  "cells": [
    {
      "cell_type": "markdown",
      "metadata": {
        "id": "view-in-github",
        "colab_type": "text"
      },
      "source": [
        "<a href=\"https://colab.research.google.com/github/mark47B/Matrix-Factorization-Analysis/blob/main/U%5ETDU_factorization.ipynb\" target=\"_parent\"><img src=\"https://colab.research.google.com/assets/colab-badge.svg\" alt=\"Open In Colab\"/></a>"
      ]
    },
    {
      "cell_type": "code",
      "execution_count": 13,
      "metadata": {
        "id": "kKKv-L4HKxip"
      },
      "outputs": [],
      "source": [
        "import numpy as np\n",
        "import matplotlib.pyplot as plt\n",
        "import time\n",
        "import random"
      ]
    },
    {
      "cell_type": "markdown",
      "source": [
        "# Генерация матриц\n"
      ],
      "metadata": {
        "id": "Pl03-D9xL4wF"
      }
    },
    {
      "cell_type": "code",
      "source": [
        "def get_matrix(n=None, ):\n",
        "  if n is None:\n",
        "    n = random.randint(2, 400)\n",
        "  A = np.random.randint(0,  65536, (n, n))\n",
        "  A = A.T * A\n",
        "  return A"
      ],
      "metadata": {
        "id": "FarUHMB038js"
      },
      "execution_count": 14,
      "outputs": []
    },
    {
      "cell_type": "code",
      "source": [
        "def get_matrix_3d(n=None, ):\n",
        "  if n is None:\n",
        "    n = random.randint(3, 400)\n",
        "  A = np.random.randint(0,  65536, n)\n",
        "  B = np.random.randint(0,  65536, n-1)\n",
        "  M = np.diag(A, k=0) + np.diag(B, k=1)\n",
        "  return M.T @ M"
      ],
      "metadata": {
        "id": "56eMLN7nFnjH"
      },
      "execution_count": 15,
      "outputs": []
    },
    {
      "cell_type": "code",
      "source": [
        "OPERATIONS = 0"
      ],
      "metadata": {
        "id": "KU7USWPXwSnl"
      },
      "execution_count": 16,
      "outputs": []
    },
    {
      "cell_type": "markdown",
      "source": [
        "# Алгоритм $U^TDU$-факторизации"
      ],
      "metadata": {
        "id": "C9STNqzyL9ss"
      }
    },
    {
      "cell_type": "code",
      "source": [
        "A = np.array([[25, 5, 5], [5, 10, 4], [5, 4, 1]])"
      ],
      "metadata": {
        "id": "Xg4S6rENTTAl"
      },
      "execution_count": 17,
      "outputs": []
    },
    {
      "cell_type": "code",
      "source": [
        "def UDU_factorization(A: np.array):\n",
        "    n = A.shape[0]\n",
        "    global OPERATIONS\n",
        "    OPERATIONS = 0\n",
        "    U = np.empty((n, n))\n",
        "    U[:] = np.nan\n",
        "    D = np.empty((n, n))\n",
        "    D[:] = .0\n",
        "    for i in range(0, n):\n",
        "        tmp = 0\n",
        "        for r in range(0, i):\n",
        "            OPERATIONS += 3\n",
        "            tmp += U[r][i] * U[r][i] * D[r][r]\n",
        "        D[i][i] = A[i][i] - tmp\n",
        "        for j in range(0, n):\n",
        "            tmp = 0\n",
        "            for k in range(0, i):\n",
        "                OPERATIONS += 3\n",
        "                tmp += U[k][i] * U[k][j] * D[k][k]\n",
        "            OPERATIONS += 1\n",
        "            U[i][j] = ((A[i][j] - tmp) / D[i][i]) if j > i else 0\n",
        "\n",
        "    return U + np.eye(n), D"
      ],
      "metadata": {
        "id": "QLdpkytFNUKA"
      },
      "execution_count": 18,
      "outputs": []
    },
    {
      "cell_type": "markdown",
      "source": [
        "### Проверка работоспособности алгоритма"
      ],
      "metadata": {
        "id": "OsPZSLyjEOEN"
      }
    },
    {
      "cell_type": "code",
      "source": [
        "P, O = UDU_factorization(A)\n",
        "print(P)\n",
        "print(O)"
      ],
      "metadata": {
        "colab": {
          "base_uri": "https://localhost:8080/"
        },
        "id": "V5bIB69ufMWY",
        "outputId": "19abc805-c675-4330-c999-dbff1e15f9f5"
      },
      "execution_count": 19,
      "outputs": [
        {
          "output_type": "stream",
          "name": "stdout",
          "text": [
            "[[1.         0.2        0.2       ]\n",
            " [0.         1.         0.33333333]\n",
            " [0.         0.         1.        ]]\n",
            "[[25.  0.  0.]\n",
            " [ 0.  9.  0.]\n",
            " [ 0.  0. -1.]]\n"
          ]
        }
      ]
    },
    {
      "cell_type": "code",
      "source": [
        "np.matmul(np.matmul(P.T, O), P) - A"
      ],
      "metadata": {
        "colab": {
          "base_uri": "https://localhost:8080/"
        },
        "id": "_GsVhUoTsIvf",
        "outputId": "58967055-fe4d-4959-f48c-d81368972a6e"
      },
      "execution_count": 20,
      "outputs": [
        {
          "output_type": "execute_result",
          "data": {
            "text/plain": [
              "array([[0., 0., 0.],\n",
              "       [0., 0., 0.],\n",
              "       [0., 0., 0.]])"
            ]
          },
          "metadata": {},
          "execution_count": 20
        }
      ]
    },
    {
      "cell_type": "markdown",
      "source": [
        "### Эксперимент"
      ],
      "metadata": {
        "id": "j66Llvg8U97H"
      }
    },
    {
      "cell_type": "code",
      "source": [
        "dim = 300\n"
      ],
      "metadata": {
        "id": "GGmhwwQaW8Rd"
      },
      "execution_count": 21,
      "outputs": []
    },
    {
      "cell_type": "code",
      "source": [
        "dim_operations_matrix = np.zeros((dim,))\n",
        "computing_time = [0, 0, 0]\n",
        "dim_operations_matrix"
      ],
      "metadata": {
        "id": "fz0DIky7U7xE",
        "colab": {
          "base_uri": "https://localhost:8080/"
        },
        "outputId": "ddca8fc0-8fcb-44b6-9acb-123b0bfbd7c0"
      },
      "execution_count": 22,
      "outputs": [
        {
          "output_type": "execute_result",
          "data": {
            "text/plain": [
              "array([0., 0., 0., 0., 0., 0., 0., 0., 0., 0., 0., 0., 0., 0., 0., 0., 0.,\n",
              "       0., 0., 0., 0., 0., 0., 0., 0., 0., 0., 0., 0., 0., 0., 0., 0., 0.,\n",
              "       0., 0., 0., 0., 0., 0., 0., 0., 0., 0., 0., 0., 0., 0., 0., 0., 0.,\n",
              "       0., 0., 0., 0., 0., 0., 0., 0., 0., 0., 0., 0., 0., 0., 0., 0., 0.,\n",
              "       0., 0., 0., 0., 0., 0., 0., 0., 0., 0., 0., 0., 0., 0., 0., 0., 0.,\n",
              "       0., 0., 0., 0., 0., 0., 0., 0., 0., 0., 0., 0., 0., 0., 0., 0., 0.,\n",
              "       0., 0., 0., 0., 0., 0., 0., 0., 0., 0., 0., 0., 0., 0., 0., 0., 0.,\n",
              "       0., 0., 0., 0., 0., 0., 0., 0., 0., 0., 0., 0., 0., 0., 0., 0., 0.,\n",
              "       0., 0., 0., 0., 0., 0., 0., 0., 0., 0., 0., 0., 0., 0., 0., 0., 0.,\n",
              "       0., 0., 0., 0., 0., 0., 0., 0., 0., 0., 0., 0., 0., 0., 0., 0., 0.,\n",
              "       0., 0., 0., 0., 0., 0., 0., 0., 0., 0., 0., 0., 0., 0., 0., 0., 0.,\n",
              "       0., 0., 0., 0., 0., 0., 0., 0., 0., 0., 0., 0., 0., 0., 0., 0., 0.,\n",
              "       0., 0., 0., 0., 0., 0., 0., 0., 0., 0., 0., 0., 0., 0., 0., 0., 0.,\n",
              "       0., 0., 0., 0., 0., 0., 0., 0., 0., 0., 0., 0., 0., 0., 0., 0., 0.,\n",
              "       0., 0., 0., 0., 0., 0., 0., 0., 0., 0., 0., 0., 0., 0., 0., 0., 0.,\n",
              "       0., 0., 0., 0., 0., 0., 0., 0., 0., 0., 0., 0., 0., 0., 0., 0., 0.,\n",
              "       0., 0., 0., 0., 0., 0., 0., 0., 0., 0., 0., 0., 0., 0., 0., 0., 0.,\n",
              "       0., 0., 0., 0., 0., 0., 0., 0., 0., 0., 0.])"
            ]
          },
          "metadata": {},
          "execution_count": 22
        }
      ]
    },
    {
      "cell_type": "code",
      "source": [
        "for i in range(3, dim):\n",
        "  start= time.clock()\n",
        "  UDU_factorization(get_matrix(i))\n",
        "  end = time.clock()\n",
        "  computing_time.append((end-start))\n",
        "  dim_operations_matrix[i] = OPERATIONS"
      ],
      "metadata": {
        "id": "TwiH0ze-WFkn",
        "colab": {
          "base_uri": "https://localhost:8080/"
        },
        "outputId": "838c01af-341d-4ddc-8071-1e402ea6c4ee"
      },
      "execution_count": 23,
      "outputs": [
        {
          "output_type": "stream",
          "name": "stderr",
          "text": [
            "/usr/local/lib/python3.7/dist-packages/ipykernel_launcher.py:2: DeprecationWarning: time.clock has been deprecated in Python 3.3 and will be removed from Python 3.8: use time.perf_counter or time.process_time instead\n",
            "  \n",
            "/usr/local/lib/python3.7/dist-packages/ipykernel_launcher.py:4: DeprecationWarning: time.clock has been deprecated in Python 3.3 and will be removed from Python 3.8: use time.perf_counter or time.process_time instead\n",
            "  after removing the cwd from sys.path.\n"
          ]
        }
      ]
    },
    {
      "cell_type": "code",
      "source": [
        "x = np.arange(0, dim, 1)"
      ],
      "metadata": {
        "id": "C_VAK-CBa2BM"
      },
      "execution_count": 24,
      "outputs": []
    },
    {
      "cell_type": "code",
      "source": [
        "plt.title(\"$Сравнение U^TDU$-разложение\")\n",
        "plt.xlabel(\"Размер матрицы\")\n",
        "plt.ylabel(\"Трудоёмкость\")\n",
        "plt.plot(x, dim_operations_matrix, label='Относительная оценка')\n",
        "plt.plot(x, x**3, label='O($n^3$)')\n",
        "plt.plot(x, 3*(x-1)/2 + x*(x-1)+ 3*(2+x)*x*x/2, label='Точная оценка')\n",
        "plt.legend()\n",
        "plt.savefig('U^TDU-factorization.png')"
      ],
      "metadata": {
        "colab": {
          "base_uri": "https://localhost:8080/",
          "height": 299
        },
        "id": "QzpdlZurapUV",
        "outputId": "3127a835-81fd-4a51-e1d7-648ecd876455"
      },
      "execution_count": 25,
      "outputs": [
        {
          "output_type": "display_data",
          "data": {
            "text/plain": [
              "<Figure size 432x288 with 1 Axes>"
            ],
            "image/png": "[encoded data removed]"
          },
          "metadata": {
            "needs_background": "light"
          }
        }
      ]
    },
    {
      "cell_type": "code",
      "source": [
        "plt.title(\"Оценка времени $U^TDU$-разложение\")\n",
        "plt.xlabel(\"Размер матрицы\")\n",
        "plt.ylabel(\"Время, секунды\")\n",
        "plt.plot(x, computing_time, label='Время выполнения')\n",
        "plt.legend()\n",
        "plt.savefig('U^TDU-factorization_time.png')"
      ],
      "metadata": {
        "colab": {
          "base_uri": "https://localhost:8080/",
          "height": 299
        },
        "id": "PDHI2NPm7A7Q",
        "outputId": "adce29bc-89e2-4ac6-9ee2-f6b414443e54"
      },
      "execution_count": 26,
      "outputs": [
        {
          "output_type": "display_data",
          "data": {
            "text/plain": [
              "<Figure size 432x288 with 1 Axes>"
            ],
            "image/png": "[encoded data removed]"
          },
          "metadata": {
            "needs_background": "light"
          }
        }
      ]
    },
    {
      "cell_type": "markdown",
      "source": [
        "# Алгоритм $U^TDU$-факторизации для трёхдиагональной матрицы"
      ],
      "metadata": {
        "id": "FZViLen1MKfc"
      }
    },
    {
      "cell_type": "code",
      "source": [
        "def UDU_factorization_3diag(A: np.array):\n",
        "    global OPERATIONS\n",
        "    OPERATIONS = 0\n",
        "    n = A.shape[0]\n",
        "    U = np.empty((n-1,))\n",
        "    U[:] = np.nan\n",
        "    D = np.empty((n,))\n",
        "    D[:] = .0\n",
        "    D[0] = A[0][0]\n",
        "    U[0] = A[0][1]/D[0]\n",
        "    for i in range(1, n-1):\n",
        "      D[i] = A[i][i] - U[i-1]*U[i-1]*D[i-1]\n",
        "      U[i] = A[i][i+1] / D[i]\n",
        "      OPERATIONS += 4\n",
        "    D[n-1] = A[n-1][n-1] - U[n-2]*U[n-2]*D[n-2]\n",
        "\n",
        "\n",
        "\n",
        "    return np.diag(U, k=1) + np.eye(n), np.diag(D)"
      ],
      "metadata": {
        "id": "5bucA_71MJzJ"
      },
      "execution_count": 27,
      "outputs": []
    },
    {
      "cell_type": "markdown",
      "source": [
        "### Проверка работоспособности"
      ],
      "metadata": {
        "id": "EslsThsxEbV8"
      }
    },
    {
      "cell_type": "code",
      "source": [
        "A = get_matrix_3d(4)\n",
        "A"
      ],
      "metadata": {
        "colab": {
          "base_uri": "https://localhost:8080/"
        },
        "id": "mckKFiG0PEtn",
        "outputId": "9709f72c-6bc7-4245-d5f7-8cbd246280e3"
      },
      "execution_count": 28,
      "outputs": [
        {
          "output_type": "execute_result",
          "data": {
            "text/plain": [
              "array([[1982564676, 1649153988,          0,          0],\n",
              "       [1649153988, 1389995140,  270627552,          0],\n",
              "       [         0,  270627552, 4619308993, 1005293924],\n",
              "       [         0,          0, 1005293924, 5186882128]])"
            ]
          },
          "metadata": {},
          "execution_count": 28
        }
      ]
    },
    {
      "cell_type": "code",
      "source": [
        "P, O = UDU_factorization_3diag(A)\n",
        "print(A)\n",
        "print(P)\n",
        "print(O)\n",
        "np.matmul(np.matmul(P.T, O), P) - A"
      ],
      "metadata": {
        "colab": {
          "base_uri": "https://localhost:8080/"
        },
        "id": "an0GpZ3Wqi5X",
        "outputId": "7f7580a1-544b-46f2-f45a-ac772a2fc04e"
      },
      "execution_count": 29,
      "outputs": [
        {
          "output_type": "stream",
          "name": "stdout",
          "text": [
            "[[1982564676 1649153988          0          0]\n",
            " [1649153988 1389995140  270627552          0]\n",
            " [         0  270627552 4619308993 1005293924]\n",
            " [         0          0 1005293924 5186882128]]\n",
            "[[ 1.          0.83182859  0.          0.        ]\n",
            " [ 0.          1.         14.88461538  0.        ]\n",
            " [ 0.          0.          1.          1.70065397]\n",
            " [ 0.          0.          0.          1.        ]]\n",
            "[[1.98256468e+09 0.00000000e+00 0.00000000e+00 0.00000000e+00]\n",
            " [0.00000000e+00 1.81816960e+07 0.00000000e+00 0.00000000e+00]\n",
            " [0.00000000e+00 0.00000000e+00 5.91121969e+08 0.00000000e+00]\n",
            " [0.00000000e+00 0.00000000e+00 0.00000000e+00 3.47722502e+09]]\n"
          ]
        },
        {
          "output_type": "execute_result",
          "data": {
            "text/plain": [
              "array([[ 0.00000000e+00,  0.00000000e+00,  0.00000000e+00,\n",
              "         0.00000000e+00],\n",
              "       [ 0.00000000e+00, -2.38418579e-07,  0.00000000e+00,\n",
              "         0.00000000e+00],\n",
              "       [ 0.00000000e+00,  0.00000000e+00,  0.00000000e+00,\n",
              "         0.00000000e+00],\n",
              "       [ 0.00000000e+00,  0.00000000e+00,  0.00000000e+00,\n",
              "         0.00000000e+00]])"
            ]
          },
          "metadata": {},
          "execution_count": 29
        }
      ]
    },
    {
      "cell_type": "markdown",
      "source": [
        "### Эксперимент"
      ],
      "metadata": {
        "id": "-4w7rMV_EfdS"
      }
    },
    {
      "cell_type": "code",
      "source": [
        "dim = 500"
      ],
      "metadata": {
        "id": "QJavrWWPFMFy"
      },
      "execution_count": 30,
      "outputs": []
    },
    {
      "cell_type": "code",
      "source": [
        "dim_operations_matrix = np.zeros((dim,))\n",
        "computing_time = [0, 0, 0]"
      ],
      "metadata": {
        "id": "7-RGeKWfFMF0"
      },
      "execution_count": 31,
      "outputs": []
    },
    {
      "cell_type": "code",
      "source": [
        "for i in range(3, dim):\n",
        "  start= time.clock()\n",
        "  UDU_factorization_3diag(get_matrix_3d(i))\n",
        "  end = time.clock()\n",
        "  computing_time.append((end-start))\n",
        "  dim_operations_matrix[i] = OPERATIONS"
      ],
      "metadata": {
        "id": "URqbsdH_FMF1",
        "colab": {
          "base_uri": "https://localhost:8080/"
        },
        "outputId": "5c59463f-c3cc-425e-e548-bb860e6b7b91"
      },
      "execution_count": 32,
      "outputs": [
        {
          "output_type": "stream",
          "name": "stderr",
          "text": [
            "/usr/local/lib/python3.7/dist-packages/ipykernel_launcher.py:2: DeprecationWarning: time.clock has been deprecated in Python 3.3 and will be removed from Python 3.8: use time.perf_counter or time.process_time instead\n",
            "  \n",
            "/usr/local/lib/python3.7/dist-packages/ipykernel_launcher.py:4: DeprecationWarning: time.clock has been deprecated in Python 3.3 and will be removed from Python 3.8: use time.perf_counter or time.process_time instead\n",
            "  after removing the cwd from sys.path.\n"
          ]
        }
      ]
    },
    {
      "cell_type": "code",
      "source": [
        "x = np.arange(0, dim, 1)"
      ],
      "metadata": {
        "id": "DF_dlrPwFMF3"
      },
      "execution_count": 33,
      "outputs": []
    },
    {
      "cell_type": "code",
      "source": [
        "plt.title(\"$U^TDU$-разложение - трёхдиагональные матрицы\")\n",
        "plt.xlabel(\"Размер матрицы\")\n",
        "plt.ylabel(\"Трудоёмкость\")\n",
        "\n",
        "plt.plot(x, dim_operations_matrix, label='Полученная оценка')\n",
        "plt.plot(x, x, label='O($n$)')\n",
        "plt.plot(x, 4*x, label='Точная оценка')\n",
        "\n",
        "plt.legend()\n",
        "plt.savefig('U^TDU-factorization_3d.png')"
      ],
      "metadata": {
        "colab": {
          "base_uri": "https://localhost:8080/",
          "height": 299
        },
        "outputId": "2bc27d42-05e0-484d-ec92-debfdd3be55c",
        "id": "kbwiGKvCFMF5"
      },
      "execution_count": 34,
      "outputs": [
        {
          "output_type": "display_data",
          "data": {
            "text/plain": [
              "<Figure size 432x288 with 1 Axes>"
            ],
            "image/png": "[encoded data removed]"
          },
          "metadata": {
            "needs_background": "light"
          }
        }
      ]
    },
    {
      "cell_type": "code",
      "source": [
        "plt.title(\"Оценка времени $U^TDU$-разложение трёхдиагональные матрицы\")\n",
        "plt.xlabel(\"Размер матрицы\")\n",
        "plt.ylabel(\"Время, секунды\")\n",
        "\n",
        "plt.plot(x, computing_time, label='Время выполнения')\n",
        "\n",
        "plt.legend()\n",
        "plt.savefig('U^TDU-factorization_3d_time.png')"
      ],
      "metadata": {
        "colab": {
          "base_uri": "https://localhost:8080/",
          "height": 299
        },
        "id": "f6Z_qxPm9VgZ",
        "outputId": "9670657d-743c-4181-db5e-cdd87f80b58b"
      },
      "execution_count": 35,
      "outputs": [
        {
          "output_type": "display_data",
          "data": {
            "text/plain": [
              "<Figure size 432x288 with 1 Axes>"
            ],
            "image/png": "[encoded data removed]"
          },
          "metadata": {
            "needs_background": "light"
          }
        }
      ]
    },
    {
      "cell_type": "markdown",
      "source": [
        "# Характеристики оборудования"
      ],
      "metadata": {
        "id": "qwZDGRh-Y6Qg"
      }
    },
    {
      "cell_type": "code",
      "source": [
        "!vmstat -s"
      ],
      "metadata": {
        "id": "WF4_QLzHYtbQ",
        "colab": {
          "base_uri": "https://localhost:8080/"
        },
        "outputId": "994bd71c-15ca-49fd-c784-a60d28210228"
      },
      "execution_count": 36,
      "outputs": [
        {
          "output_type": "stream",
          "name": "stdout",
          "text": [
            "     13297228 K total memory\n",
            "      1059704 K used memory\n",
            "       577968 K active memory\n",
            "      4243692 K inactive memory\n",
            "      8256268 K free memory\n",
            "       325616 K buffer memory\n",
            "      3655640 K swap cache\n",
            "            0 K total swap\n",
            "            0 K used swap\n",
            "            0 K free swap\n",
            "       381501 non-nice user cpu ticks\n",
            "            0 nice user cpu ticks\n",
            "        11366 system cpu ticks\n",
            "       350131 idle cpu ticks\n",
            "         2762 IO-wait cpu ticks\n",
            "            0 IRQ cpu ticks\n",
            "          413 softirq cpu ticks\n",
            "          336 stolen cpu ticks\n",
            "      3934390 pages paged in\n",
            "      1201793 pages paged out\n",
            "            0 pages swapped in\n",
            "            0 pages swapped out\n",
            "      5432385 interrupts\n",
            "      3451547 CPU context switches\n",
            "   1669408998 boot time\n",
            "        36582 forks\n"
          ]
        }
      ]
    },
    {
      "cell_type": "code",
      "source": [
        "!df -h"
      ],
      "metadata": {
        "id": "pZVO6SGDYeo0",
        "colab": {
          "base_uri": "https://localhost:8080/"
        },
        "outputId": "4839e55f-af61-421f-8fd9-c6017beb5fa0"
      },
      "execution_count": 37,
      "outputs": [
        {
          "output_type": "stream",
          "name": "stdout",
          "text": [
            "Filesystem      Size  Used Avail Use% Mounted on\n",
            "overlay         108G   23G   86G  21% /\n",
            "tmpfs            64M     0   64M   0% /dev\n",
            "shm             5.8G     0  5.8G   0% /dev/shm\n",
            "/dev/root       2.0G  1.1G  910M  54% /sbin/docker-init\n",
            "tmpfs           6.4G   40K  6.4G   1% /var/colab\n",
            "/dev/sda1        65G   40G   25G  62% /etc/hosts\n",
            "tmpfs           6.4G     0  6.4G   0% /proc/acpi\n",
            "tmpfs           6.4G     0  6.4G   0% /proc/scsi\n",
            "tmpfs           6.4G     0  6.4G   0% /sys/firmware\n"
          ]
        }
      ]
    },
    {
      "cell_type": "code",
      "source": [
        "!cat /proc/partitions"
      ],
      "metadata": {
        "id": "YYIpHueqYYj7",
        "colab": {
          "base_uri": "https://localhost:8080/"
        },
        "outputId": "6400aefa-7f1d-4018-9341-0328950ebdfd"
      },
      "execution_count": 38,
      "outputs": [
        {
          "output_type": "stream",
          "name": "stdout",
          "text": [
            "major minor  #blocks  name\n",
            "\n",
            "   7        0  115343360 loop0\n",
            "   8        0   73400320 sda\n",
            "   8        1   69048303 sda1\n",
            "   8        2      16384 sda2\n",
            "   8        3    2097152 sda3\n",
            "   8        4      16384 sda4\n",
            "   8        5    2097152 sda5\n",
            "   8        6          0 sda6\n",
            "   8        7          0 sda7\n",
            "   8        8      16384 sda8\n",
            "   8        9          0 sda9\n",
            "   8       10          0 sda10\n",
            "   8       11       8192 sda11\n",
            "   8       12      32768 sda12\n",
            " 253        0    2038784 dm-0\n"
          ]
        }
      ]
    },
    {
      "cell_type": "code",
      "source": [
        "!cat /proc/cpuinfo"
      ],
      "metadata": {
        "id": "GohSZiHOX2Ys",
        "colab": {
          "base_uri": "https://localhost:8080/"
        },
        "outputId": "6d2a41cc-1db8-45ca-e0d7-1f2f75416815"
      },
      "execution_count": 39,
      "outputs": [
        {
          "output_type": "stream",
          "name": "stdout",
          "text": [
            "processor\t: 0\n",
            "vendor_id\t: GenuineIntel\n",
            "cpu family\t: 6\n",
            "model\t\t: 79\n",
            "model name\t: Intel(R) Xeon(R) CPU @ 2.20GHz\n",
            "stepping\t: 0\n",
            "microcode\t: 0x1\n",
            "cpu MHz\t\t: 2199.998\n",
            "cache size\t: 56320 KB\n",
            "physical id\t: 0\n",
            "siblings\t: 2\n",
            "core id\t\t: 0\n",
            "cpu cores\t: 1\n",
            "apicid\t\t: 0\n",
            "initial apicid\t: 0\n",
            "fpu\t\t: yes\n",
            "fpu_exception\t: yes\n",
            "cpuid level\t: 13\n",
            "wp\t\t: yes\n",
            "flags\t\t: fpu vme de pse tsc msr pae mce cx8 apic sep mtrr pge mca cmov pat pse36 clflush mmx fxsr sse sse2 ss ht syscall nx pdpe1gb rdtscp lm constant_tsc rep_good nopl xtopology nonstop_tsc cpuid tsc_known_freq pni pclmulqdq ssse3 fma cx16 pcid sse4_1 sse4_2 x2apic movbe popcnt aes xsave avx f16c rdrand hypervisor lahf_lm abm 3dnowprefetch invpcid_single ssbd ibrs ibpb stibp fsgsbase tsc_adjust bmi1 hle avx2 smep bmi2 erms invpcid rtm rdseed adx smap xsaveopt arat md_clear arch_capabilities\n",
            "bugs\t\t: cpu_meltdown spectre_v1 spectre_v2 spec_store_bypass l1tf mds swapgs taa mmio_stale_data retbleed\n",
            "bogomips\t: 4399.99\n",
            "clflush size\t: 64\n",
            "cache_alignment\t: 64\n",
            "address sizes\t: 46 bits physical, 48 bits virtual\n",
            "power management:\n",
            "\n",
            "processor\t: 1\n",
            "vendor_id\t: GenuineIntel\n",
            "cpu family\t: 6\n",
            "model\t\t: 79\n",
            "model name\t: Intel(R) Xeon(R) CPU @ 2.20GHz\n",
            "stepping\t: 0\n",
            "microcode\t: 0x1\n",
            "cpu MHz\t\t: 2199.998\n",
            "cache size\t: 56320 KB\n",
            "physical id\t: 0\n",
            "siblings\t: 2\n",
            "core id\t\t: 0\n",
            "cpu cores\t: 1\n",
            "apicid\t\t: 1\n",
            "initial apicid\t: 1\n",
            "fpu\t\t: yes\n",
            "fpu_exception\t: yes\n",
            "cpuid level\t: 13\n",
            "wp\t\t: yes\n",
            "flags\t\t: fpu vme de pse tsc msr pae mce cx8 apic sep mtrr pge mca cmov pat pse36 clflush mmx fxsr sse sse2 ss ht syscall nx pdpe1gb rdtscp lm constant_tsc rep_good nopl xtopology nonstop_tsc cpuid tsc_known_freq pni pclmulqdq ssse3 fma cx16 pcid sse4_1 sse4_2 x2apic movbe popcnt aes xsave avx f16c rdrand hypervisor lahf_lm abm 3dnowprefetch invpcid_single ssbd ibrs ibpb stibp fsgsbase tsc_adjust bmi1 hle avx2 smep bmi2 erms invpcid rtm rdseed adx smap xsaveopt arat md_clear arch_capabilities\n",
            "bugs\t\t: cpu_meltdown spectre_v1 spectre_v2 spec_store_bypass l1tf mds swapgs taa mmio_stale_data retbleed\n",
            "bogomips\t: 4399.99\n",
            "clflush size\t: 64\n",
            "cache_alignment\t: 64\n",
            "address sizes\t: 46 bits physical, 48 bits virtual\n",
            "power management:\n",
            "\n"
          ]
        }
      ]
    }
  ]
}