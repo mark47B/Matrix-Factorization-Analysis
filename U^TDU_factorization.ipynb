{
  "nbformat": 4,
  "nbformat_minor": 0,
  "metadata": {
    "colab": {
      "provenance": [],
      "collapsed_sections": [
        "OsPZSLyjEOEN",
        "qwZDGRh-Y6Qg"
      ],
      "authorship_tag": "ABX9TyPXVU4nG2kSA/jytog65XqQ",
      "include_colab_link": true
    },
    "kernelspec": {
      "name": "python3",
      "display_name": "Python 3"
    },
    "language_info": {
      "name": "python"
    },
    "gpuClass": "standard"
  },
  "cells": [
    {
      "cell_type": "markdown",
      "metadata": {
        "id": "view-in-github",
        "colab_type": "text"
      },
      "source": [
        "<a href=\"https://colab.research.google.com/github/mark47B/Matrix-Factorization-Analysis/blob/main/U%5ETDU_factorization.ipynb\" target=\"_parent\"><img src=\"https://colab.research.google.com/assets/colab-badge.svg\" alt=\"Open In Colab\"/></a>"
      ]
    },
    {
      "cell_type": "code",
      "execution_count": 1,
      "metadata": {
        "id": "kKKv-L4HKxip"
      },
      "outputs": [],
      "source": [
        "import numpy as np\n",
        "import pandas as pd\n",
        "import seaborn as sns\n",
        "import matplotlib.pyplot as plt\n",
        "import scipy as sp\n",
        "import random"
      ]
    },
    {
      "cell_type": "markdown",
      "source": [
        "# Генерация матриц\n"
      ],
      "metadata": {
        "id": "Pl03-D9xL4wF"
      }
    },
    {
      "cell_type": "code",
      "source": [
        "def get_matrix(n=None, ):\n",
        "  if n is None:\n",
        "    n = random.randint(2, 400)\n",
        "  A = np.random.randint(0,  65536, (n, n))\n",
        "  A = A.T * A\n",
        "  return A"
      ],
      "metadata": {
        "id": "FarUHMB038js"
      },
      "execution_count": 2,
      "outputs": []
    },
    {
      "cell_type": "code",
      "source": [
        "def get_matrix_3d(n=None, ):\n",
        "  if n is None:\n",
        "    n = random.randint(3, 400)\n",
        "  A = np.random.randint(0,  65536, n)\n",
        "  B = np.random.randint(0,  65536, n-1)\n",
        "  M = np.diag(A, k=0) + np.diag(B, k=1)\n",
        "  return M.T @ M"
      ],
      "metadata": {
        "id": "56eMLN7nFnjH"
      },
      "execution_count": null,
      "outputs": []
    },
    {
      "cell_type": "code",
      "source": [
        "OPERATIONS = 0"
      ],
      "metadata": {
        "id": "KU7USWPXwSnl"
      },
      "execution_count": null,
      "outputs": []
    },
    {
      "cell_type": "markdown",
      "source": [
        "# Алгоритм $U^TDU$-факторизации"
      ],
      "metadata": {
        "id": "C9STNqzyL9ss"
      }
    },
    {
      "cell_type": "code",
      "source": [
        "A = np.array([[25, 5, 5], [5, 10, 4], [5, 4, 1]])"
      ],
      "metadata": {
        "id": "Xg4S6rENTTAl"
      },
      "execution_count": null,
      "outputs": []
    },
    {
      "cell_type": "code",
      "source": [
        "def UDU_factorization(A: np.array):\n",
        "    n = A.shape[0]\n",
        "    global OPERATIONS\n",
        "    OPERATIONS = 0\n",
        "    U = np.empty((n, n))\n",
        "    U[:] = np.nan\n",
        "    D = np.empty((n, n))\n",
        "    D[:] = .0\n",
        "    for i in range(0, n):\n",
        "        tmp = 0\n",
        "        for r in range(0, i):\n",
        "            OPERATIONS += 3\n",
        "            tmp += U[r][i] * U[r][i] * D[r][r]\n",
        "        D[i][i] = A[i][i] - tmp\n",
        "        for j in range(0, n):\n",
        "            tmp = 0\n",
        "            for k in range(0, i):\n",
        "                OPERATIONS += 3\n",
        "                tmp += U[k][i] * U[k][j] * D[k][k]\n",
        "            OPERATIONS += 1\n",
        "            U[i][j] = ((A[i][j] - tmp) / D[i][i]) if j > i else 0\n",
        "\n",
        "    return U + np.eye(n), D"
      ],
      "metadata": {
        "id": "QLdpkytFNUKA"
      },
      "execution_count": null,
      "outputs": []
    },
    {
      "cell_type": "markdown",
      "source": [
        "### Проверка работоспособности алгоритма"
      ],
      "metadata": {
        "id": "OsPZSLyjEOEN"
      }
    },
    {
      "cell_type": "code",
      "source": [
        "P, O = UDU_factorization(A)\n",
        "print(P)\n",
        "print(O)"
      ],
      "metadata": {
        "colab": {
          "base_uri": "https://localhost:8080/"
        },
        "id": "V5bIB69ufMWY",
        "outputId": "64a3e38f-47c6-48c5-97eb-525f8632ae23"
      },
      "execution_count": null,
      "outputs": [
        {
          "output_type": "stream",
          "name": "stdout",
          "text": [
            "[[1.         0.2        0.2       ]\n",
            " [0.         1.         0.33333333]\n",
            " [0.         0.         1.        ]]\n",
            "[[25.  0.  0.]\n",
            " [ 0.  9.  0.]\n",
            " [ 0.  0. -1.]]\n"
          ]
        }
      ]
    },
    {
      "cell_type": "code",
      "source": [
        "np.matmul(np.matmul(P.T, O), P) - A"
      ],
      "metadata": {
        "colab": {
          "base_uri": "https://localhost:8080/"
        },
        "id": "_GsVhUoTsIvf",
        "outputId": "0f833d5f-2f2d-4c45-ccf3-3b2d3675edbc"
      },
      "execution_count": null,
      "outputs": [
        {
          "output_type": "execute_result",
          "data": {
            "text/plain": [
              "array([[0., 0., 0.],\n",
              "       [0., 0., 0.],\n",
              "       [0., 0., 0.]])"
            ]
          },
          "metadata": {},
          "execution_count": 8
        }
      ]
    },
    {
      "cell_type": "markdown",
      "source": [
        "### Эксперимент"
      ],
      "metadata": {
        "id": "j66Llvg8U97H"
      }
    },
    {
      "cell_type": "code",
      "source": [
        "dim = 200"
      ],
      "metadata": {
        "id": "GGmhwwQaW8Rd"
      },
      "execution_count": null,
      "outputs": []
    },
    {
      "cell_type": "code",
      "source": [
        "dim_operations_matrix = np.zeros((dim,))\n",
        "dim_operations_matrix"
      ],
      "metadata": {
        "id": "fz0DIky7U7xE",
        "colab": {
          "base_uri": "https://localhost:8080/"
        },
        "outputId": "88c9eb37-d34f-449d-a0fe-3e1f78378f9c"
      },
      "execution_count": null,
      "outputs": [
        {
          "output_type": "execute_result",
          "data": {
            "text/plain": [
              "array([0., 0., 0., 0., 0., 0., 0., 0., 0., 0., 0., 0., 0., 0., 0., 0., 0.,\n",
              "       0., 0., 0., 0., 0., 0., 0., 0., 0., 0., 0., 0., 0., 0., 0., 0., 0.,\n",
              "       0., 0., 0., 0., 0., 0., 0., 0., 0., 0., 0., 0., 0., 0., 0., 0., 0.,\n",
              "       0., 0., 0., 0., 0., 0., 0., 0., 0., 0., 0., 0., 0., 0., 0., 0., 0.,\n",
              "       0., 0., 0., 0., 0., 0., 0., 0., 0., 0., 0., 0., 0., 0., 0., 0., 0.,\n",
              "       0., 0., 0., 0., 0., 0., 0., 0., 0., 0., 0., 0., 0., 0., 0., 0., 0.,\n",
              "       0., 0., 0., 0., 0., 0., 0., 0., 0., 0., 0., 0., 0., 0., 0., 0., 0.,\n",
              "       0., 0., 0., 0., 0., 0., 0., 0., 0., 0., 0., 0., 0., 0., 0., 0., 0.,\n",
              "       0., 0., 0., 0., 0., 0., 0., 0., 0., 0., 0., 0., 0., 0., 0., 0., 0.,\n",
              "       0., 0., 0., 0., 0., 0., 0., 0., 0., 0., 0., 0., 0., 0., 0., 0., 0.,\n",
              "       0., 0., 0., 0., 0., 0., 0., 0., 0., 0., 0., 0., 0., 0., 0., 0., 0.,\n",
              "       0., 0., 0., 0., 0., 0., 0., 0., 0., 0., 0., 0., 0.])"
            ]
          },
          "metadata": {},
          "execution_count": 10
        }
      ]
    },
    {
      "cell_type": "code",
      "source": [
        "for i in range(3, dim):\n",
        "  UDU_factorization(get_matrix(i))\n",
        "  dim_operations_matrix[i] = OPERATIONS"
      ],
      "metadata": {
        "id": "TwiH0ze-WFkn"
      },
      "execution_count": null,
      "outputs": []
    },
    {
      "cell_type": "code",
      "source": [
        "x = np.arange(0, dim, 1)"
      ],
      "metadata": {
        "id": "C_VAK-CBa2BM"
      },
      "execution_count": null,
      "outputs": []
    },
    {
      "cell_type": "code",
      "source": [
        "plt.plot(x, dim_operations_matrix)\n",
        "plt.title(\"$U^TDU$-разложение\")\n",
        "plt.xlabel(\"Размер матрицы\")\n",
        "plt.ylabel(\"Трудоёмкость\")\n",
        "plt.plot(x, x**3 )"
      ],
      "metadata": {
        "colab": {
          "base_uri": "https://localhost:8080/",
          "height": 316
        },
        "id": "QzpdlZurapUV",
        "outputId": "fa07eebd-7e36-416f-ff33-8e9cde98d02e"
      },
      "execution_count": null,
      "outputs": [
        {
          "output_type": "execute_result",
          "data": {
            "text/plain": [
              "[<matplotlib.lines.Line2D at 0x7f29db62f510>]"
            ]
          },
          "metadata": {},
          "execution_count": 13
        },
        {
          "output_type": "display_data",
          "data": {
            "text/plain": [
              "<Figure size 432x288 with 1 Axes>"
            ],
            "image/png": "[encoded data removed]"
          },
          "metadata": {
            "needs_background": "light"
          }
        }
      ]
    },
    {
      "cell_type": "markdown",
      "source": [
        "# Алгоритм $U^TDU$-факторизации для трёхдиагональной матрицы"
      ],
      "metadata": {
        "id": "FZViLen1MKfc"
      }
    },
    {
      "cell_type": "code",
      "source": [
        "def UDU_factorization_3diag(A: np.array):\n",
        "    global OPERATIONS\n",
        "    OPERATIONS = 0\n",
        "    n = A.shape[0]\n",
        "    U = np.empty((n-1,))\n",
        "    U[:] = np.nan\n",
        "    D = np.empty((n,))\n",
        "    D[:] = .0\n",
        "    D[0] = A[0][0]\n",
        "    U[0] = A[0][1]/D[0]\n",
        "    for i in range(1, n-1):\n",
        "      D[i] = A[i][i] - U[i-1]*U[i-1]*D[i-1]\n",
        "      U[i] = A[i][i+1] / D[i]\n",
        "      OPERATIONS += 4\n",
        "    D[n-1] = A[n-1][n-1] - U[n-2]*U[n-2]*D[n-2]\n",
        "\n",
        "\n",
        "\n",
        "    return np.diag(U, k=1) + np.eye(n), np.diag(D)"
      ],
      "metadata": {
        "id": "5bucA_71MJzJ"
      },
      "execution_count": null,
      "outputs": []
    },
    {
      "cell_type": "markdown",
      "source": [
        "### Проверка работоспособности"
      ],
      "metadata": {
        "id": "EslsThsxEbV8"
      }
    },
    {
      "cell_type": "code",
      "source": [
        "A = get_matrix_3d(4)\n",
        "A"
      ],
      "metadata": {
        "colab": {
          "base_uri": "https://localhost:8080/"
        },
        "id": "mckKFiG0PEtn",
        "outputId": "b2d8ea34-e91d-4d09-ce2c-a5e7f03c1665"
      },
      "execution_count": null,
      "outputs": [
        {
          "output_type": "execute_result",
          "data": {
            "text/plain": [
              "array([[1455956649,  979528347,          0,          0],\n",
              "       [ 979528347,  995649345,  650675124,          0],\n",
              "       [         0,  650675124, 2263085050, 1769774417],\n",
              "       [         0,          0, 1769774417, 4610073194]])"
            ]
          },
          "metadata": {},
          "execution_count": 29
        }
      ]
    },
    {
      "cell_type": "code",
      "source": [
        "P, O = UDU_factorization_3diag(A)\n",
        "print(A)\n",
        "print(P)\n",
        "print(O)\n",
        "np.matmul(np.matmul(P.T, O), P) - A"
      ],
      "metadata": {
        "colab": {
          "base_uri": "https://localhost:8080/"
        },
        "id": "an0GpZ3Wqi5X",
        "outputId": "b67a0781-00fb-49ea-d51b-7ac88a8ed82a"
      },
      "execution_count": null,
      "outputs": [
        {
          "output_type": "stream",
          "name": "stdout",
          "text": [
            "[[1455956649  979528347          0          0]\n",
            " [ 979528347  995649345  650675124          0]\n",
            " [         0  650675124 2263085050 1769774417]\n",
            " [         0          0 1769774417 4610073194]]\n",
            "[[1.         0.67277302 0.         0.        ]\n",
            " [0.         1.         1.93279922 0.        ]\n",
            " [0.         0.         1.         1.76016273]\n",
            " [0.         0.         0.         1.        ]]\n",
            "[[1.45595665e+09 0.00000000e+00 0.00000000e+00 0.00000000e+00]\n",
            " [0.00000000e+00 3.36649104e+08 0.00000000e+00 0.00000000e+00]\n",
            " [0.00000000e+00 0.00000000e+00 1.00546068e+09 0.00000000e+00]\n",
            " [0.00000000e+00 0.00000000e+00 0.00000000e+00 1.49498222e+09]]\n"
          ]
        },
        {
          "output_type": "execute_result",
          "data": {
            "text/plain": [
              "array([[0.0000000e+00, 1.1920929e-07, 0.0000000e+00, 0.0000000e+00],\n",
              "       [1.1920929e-07, 0.0000000e+00, 0.0000000e+00, 0.0000000e+00],\n",
              "       [0.0000000e+00, 0.0000000e+00, 0.0000000e+00, 0.0000000e+00],\n",
              "       [0.0000000e+00, 0.0000000e+00, 0.0000000e+00, 0.0000000e+00]])"
            ]
          },
          "metadata": {},
          "execution_count": 30
        }
      ]
    },
    {
      "cell_type": "markdown",
      "source": [
        "### Эксперимент"
      ],
      "metadata": {
        "id": "-4w7rMV_EfdS"
      }
    },
    {
      "cell_type": "code",
      "source": [
        "dim = 200"
      ],
      "metadata": {
        "id": "QJavrWWPFMFy"
      },
      "execution_count": null,
      "outputs": []
    },
    {
      "cell_type": "code",
      "source": [
        "dim_operations_matrix = np.zeros((dim,))\n",
        "dim_operations_matrix"
      ],
      "metadata": {
        "colab": {
          "base_uri": "https://localhost:8080/"
        },
        "outputId": "c4de3955-c152-4688-b9c1-6959bf25b256",
        "id": "7-RGeKWfFMF0"
      },
      "execution_count": null,
      "outputs": [
        {
          "output_type": "execute_result",
          "data": {
            "text/plain": [
              "array([0., 0., 0., 0., 0., 0., 0., 0., 0., 0., 0., 0., 0., 0., 0., 0., 0.,\n",
              "       0., 0., 0., 0., 0., 0., 0., 0., 0., 0., 0., 0., 0., 0., 0., 0., 0.,\n",
              "       0., 0., 0., 0., 0., 0., 0., 0., 0., 0., 0., 0., 0., 0., 0., 0., 0.,\n",
              "       0., 0., 0., 0., 0., 0., 0., 0., 0., 0., 0., 0., 0., 0., 0., 0., 0.,\n",
              "       0., 0., 0., 0., 0., 0., 0., 0., 0., 0., 0., 0., 0., 0., 0., 0., 0.,\n",
              "       0., 0., 0., 0., 0., 0., 0., 0., 0., 0., 0., 0., 0., 0., 0., 0., 0.,\n",
              "       0., 0., 0., 0., 0., 0., 0., 0., 0., 0., 0., 0., 0., 0., 0., 0., 0.,\n",
              "       0., 0., 0., 0., 0., 0., 0., 0., 0., 0., 0., 0., 0., 0., 0., 0., 0.,\n",
              "       0., 0., 0., 0., 0., 0., 0., 0., 0., 0., 0., 0., 0., 0., 0., 0., 0.,\n",
              "       0., 0., 0., 0., 0., 0., 0., 0., 0., 0., 0., 0., 0., 0., 0., 0., 0.,\n",
              "       0., 0., 0., 0., 0., 0., 0., 0., 0., 0., 0., 0., 0., 0., 0., 0., 0.,\n",
              "       0., 0., 0., 0., 0., 0., 0., 0., 0., 0., 0., 0., 0.])"
            ]
          },
          "metadata": {},
          "execution_count": 32
        }
      ]
    },
    {
      "cell_type": "code",
      "source": [
        "for i in range(3, dim):\n",
        "  UDU_factorization_3diag(get_matrix_3d(i))\n",
        "  dim_operations_matrix[i] = OPERATIONS"
      ],
      "metadata": {
        "id": "URqbsdH_FMF1"
      },
      "execution_count": null,
      "outputs": []
    },
    {
      "cell_type": "code",
      "source": [
        "x = np.arange(0, dim, 1)"
      ],
      "metadata": {
        "id": "DF_dlrPwFMF3"
      },
      "execution_count": null,
      "outputs": []
    },
    {
      "cell_type": "code",
      "source": [
        "plt.plot(x, dim_operations_matrix)\n",
        "plt.title(\"$U^TDU$-разложение - трёхдиагональные матрицы\")\n",
        "plt.xlabel(\"Размер матрицы\")\n",
        "plt.ylabel(\"Трудоёмкость\")\n",
        "plt.plot(x, x )"
      ],
      "metadata": {
        "colab": {
          "base_uri": "https://localhost:8080/",
          "height": 316
        },
        "outputId": "3d55819b-4028-4d11-9513-02495fa303c2",
        "id": "kbwiGKvCFMF5"
      },
      "execution_count": null,
      "outputs": [
        {
          "output_type": "execute_result",
          "data": {
            "text/plain": [
              "[<matplotlib.lines.Line2D at 0x7f29dafd7e10>]"
            ]
          },
          "metadata": {},
          "execution_count": 35
        },
        {
          "output_type": "display_data",
          "data": {
            "text/plain": [
              "<Figure size 432x288 with 1 Axes>"
            ],
            "image/png": "[encoded data removed]"
          },
          "metadata": {
            "needs_background": "light"
          }
        }
      ]
    },
    {
      "cell_type": "markdown",
      "source": [
        "# Характеристики оборудования"
      ],
      "metadata": {
        "id": "qwZDGRh-Y6Qg"
      }
    },
    {
      "cell_type": "code",
      "source": [
        "!top"
      ],
      "metadata": {
        "id": "C0kFJsQXbjac",
        "colab": {
          "base_uri": "https://localhost:8080/"
        },
        "outputId": "e2bc5a4e-a456-44c9-99ea-f870269d7ef0"
      },
      "execution_count": null,
      "outputs": [
        {
          "output_type": "stream",
          "name": "stdout",
          "text": [
            "\u001b[?1h\u001b=\u001b[H\u001b[2J\u001b[mtop - 21:02:12 up 8 min,  0 users,  load average: 0.34, 0.65, 0.41\u001b[m\u001b[m\u001b[m\u001b[m\u001b[K\n",
            "Tasks:\u001b[m\u001b[m\u001b[1m  13 \u001b[m\u001b[mtotal,\u001b[m\u001b[m\u001b[1m   1 \u001b[m\u001b[mrunning,\u001b[m\u001b[m\u001b[1m  11 \u001b[m\u001b[msleeping,\u001b[m\u001b[m\u001b[1m   0 \u001b[m\u001b[mstopped,\u001b[m\u001b[m\u001b[1m   1 \u001b[m\u001b[mzombie\u001b[m\u001b[m\u001b[m\u001b[m\u001b[K\n",
            "%Cpu(s):\u001b[m\u001b[m\u001b[1m 30.8 \u001b[m\u001b[mus,\u001b[m\u001b[m\u001b[1m  4.4 \u001b[m\u001b[msy,\u001b[m\u001b[m\u001b[1m  0.0 \u001b[m\u001b[mni,\u001b[m\u001b[m\u001b[1m 62.1 \u001b[m\u001b[mid,\u001b[m\u001b[m\u001b[1m  2.5 \u001b[m\u001b[mwa,\u001b[m\u001b[m\u001b[1m  0.0 \u001b[m\u001b[mhi,\u001b[m\u001b[m\u001b[1m  0.2 \u001b[m\u001b[msi,\u001b[m\u001b[m\u001b[1m  0.0 \u001b[m\u001b[mst\u001b[m\u001b[m\u001b[m\u001b[m\u001b[K\n",
            "KiB Mem :\u001b[m\u001b[m\u001b[1m 13297228 \u001b[m\u001b[mtotal,\u001b[m\u001b[m\u001b[1m  7919784 \u001b[m\u001b[mfree,\u001b[m\u001b[m\u001b[1m  1091700 \u001b[m\u001b[mused,\u001b[m\u001b[m\u001b[1m  4285744 \u001b[m\u001b[mbuff/cache\u001b[m\u001b[m\u001b[m\u001b[m\u001b[K\n",
            "KiB Swap:\u001b[m\u001b[m\u001b[1m        0 \u001b[m\u001b[mtotal,\u001b[m\u001b[m\u001b[1m        0 \u001b[m\u001b[mfree,\u001b[m\u001b[m\u001b[1m        0 \u001b[m\u001b[mused.\u001b[m\u001b[m\u001b[1m 12007844 \u001b[m\u001b[mavail Mem \u001b[m\u001b[m\u001b[m\u001b[m\u001b[K\n",
            "\u001b[K\n",
            "\u001b[7m    PID USER      PR  NI    VIRT    RES    SHR S  %CPU %MEM     TIME+ COMMAND   \u001b[m\u001b[m\u001b[K\n",
            "\u001b[m     61 root      20   0  715808  10612   4728 S   6.7  0.1   0:00.67 dap_mult+ \u001b[m\u001b[m\u001b[K\n",
            "\u001b[m     74 root      20   0  825364 203396  63968 S   6.7  1.5   3:27.03 python3   \u001b[m\u001b[m\u001b[K\n",
            "\u001b[m      1 root      20   0    1008      4      0 S   0.0  0.0   0:00.58 docker-i+ \u001b[m\u001b[m\u001b[K\n",
            "\u001b[m      7 root      20   0  342124  51968  32540 S   0.0  0.4   0:01.82 node      \u001b[m\u001b[m\u001b[K\n",
            "\u001b[m     18 root      20   0   35896   4724   3616 S   0.0  0.0   0:00.63 tail      \u001b[m\u001b[m\u001b[K\n",
            "\u001b[m     32 root      20   0   39204   3372   1792 S   0.0  0.0   0:00.00 run.sh    \u001b[m\u001b[m\u001b[K\n",
            "\u001b[m     34 root      20   0  721492  14708   7996 S   0.0  0.1   0:00.32 kernel_m+ \u001b[m\u001b[m\u001b[K\n",
            "\u001b[m     44 root      20   0       0      0      0 Z   0.0  0.0   0:05.63 python3   \u001b[m\u001b[m\u001b[K\n",
            "\u001b[m     45 root      20   0  161504  42868  12932 S   0.0  0.3   0:00.53 colab-fi+ \u001b[m\u001b[m\u001b[K\n",
            "\u001b[m     60 root      20   0  199460  60064  15260 S   0.0  0.5   0:02.04 jupyter-+ \u001b[m\u001b[m\u001b[K\n",
            "\u001b[m     92 root      20   0  128728  16688   6076 S   0.0  0.1   0:01.37 python3   \u001b[m\u001b[m\u001b[K\n",
            "\u001b[m    109 root      20   0  934184 543580  31720 S   0.0  4.1   0:48.18 node      \u001b[m\u001b[m\u001b[K\n",
            "\u001b[m\u001b[1m    157 root      20   0   63192   6768   5044 R   0.0  0.1   0:00.00 top       \u001b[m\u001b[m\u001b[K\n",
            "\u001b[J\u001b[H\u001b[mtop - 21:02:15 up 8 min,  0 users,  load average: 0.71, 0.73, 0.43\u001b[m\u001b[m\u001b[m\u001b[m\u001b[K\n",
            "Tasks:\u001b[m\u001b[m\u001b[1m  13 \u001b[m\u001b[mtotal,\u001b[m\u001b[m\u001b[1m   1 \u001b[m\u001b[mrunning,\u001b[m\u001b[m\u001b[1m  11 \u001b[m\u001b[msleeping,\u001b[m\u001b[m\u001b[1m   0 \u001b[m\u001b[mstopped,\u001b[m\u001b[m\u001b[1m   1 \u001b[m\u001b[mzombie\u001b[m\u001b[m\u001b[m\u001b[m\u001b[K\n",
            "%Cpu(s):\u001b[m\u001b[m\u001b[1m  2.8 \u001b[m\u001b[mus,\u001b[m\u001b[m\u001b[1m  1.2 \u001b[m\u001b[msy,\u001b[m\u001b[m\u001b[1m  0.0 \u001b[m\u001b[mni,\u001b[m\u001b[m\u001b[1m 96.0 \u001b[m\u001b[mid,\u001b[m\u001b[m\u001b[1m  0.0 \u001b[m\u001b[mwa,\u001b[m\u001b[m\u001b[1m  0.0 \u001b[m\u001b[mhi,\u001b[m\u001b[m\u001b[1m  0.0 \u001b[m\u001b[msi,\u001b[m\u001b[m\u001b[1m  0.0 \u001b[m\u001b[mst\u001b[m\u001b[m\u001b[m\u001b[m\u001b[K\n",
            "KiB Mem :\u001b[m\u001b[m\u001b[1m 13297228 \u001b[m\u001b[mtotal,\u001b[m\u001b[m\u001b[1m  7919036 \u001b[m\u001b[mfree,\u001b[m\u001b[m\u001b[1m  1092444 \u001b[m\u001b[mused,\u001b[m\u001b[m\u001b[1m  4285748 \u001b[m\u001b[mbuff/cache\u001b[m\u001b[m\u001b[m\u001b[m\u001b[K\n",
            "KiB Swap:\u001b[m\u001b[m\u001b[1m        0 \u001b[m\u001b[mtotal,\u001b[m\u001b[m\u001b[1m        0 \u001b[m\u001b[mfree,\u001b[m\u001b[m\u001b[1m        0 \u001b[m\u001b[mused.\u001b[m\u001b[m\u001b[1m 12007280 \u001b[m\u001b[mavail Mem \u001b[m\u001b[m\u001b[m\u001b[m\u001b[K\n",
            "\u001b[K\n",
            "\n",
            "\u001b[m     74 root      20   0  825364 203396  63968 S   1.0  1.5   3:27.06 python3   \u001b[m\u001b[m\u001b[K\n",
            "\u001b[m      7 root      20   0  342124  51648  32540 S   0.7  0.4   0:01.84 node      \u001b[m\u001b[m\u001b[K\n",
            "\u001b[m     92 root      20   0  128728  16688   6076 S   0.7  0.1   0:01.39 python3   \u001b[m\u001b[m\u001b[K\n",
            "\u001b[m     60 root      20   0  199460  60064  15260 S   0.3  0.5   0:02.05 jupyter-+ \u001b[m\u001b[m\u001b[K\n",
            "\u001b[m     61 root      20   0  715808  10612   4728 S   0.3  0.1   0:00.68 dap_mult+ \u001b[m\u001b[m\u001b[K\n",
            "\u001b[m    109 root      20   0  934184 543580  31720 S   0.3  4.1   0:48.19 node      \u001b[m\u001b[m\u001b[K\n",
            "\u001b[m      1 root      20   0    1008      4      0 S   0.0  0.0   0:00.58 docker-i+ \u001b[m\u001b[m\u001b[K\n",
            "\u001b[m     18 root      20   0   35896   4724   3616 S   0.0  0.0   0:00.63 tail      \u001b[m\u001b[m\u001b[K\n",
            "\u001b[m     32 root      20   0   39204   3372   1792 S   0.0  0.0   0:00.00 run.sh    \u001b[m\u001b[m\u001b[K\n",
            "\u001b[m     34 root      20   0  721492  14708   7996 S   0.0  0.1   0:00.32 kernel_m+ \u001b[m\u001b[m\u001b[K\n",
            "\u001b[m     44 root      20   0       0      0      0 Z   0.0  0.0   0:05.63 python3   \u001b[m\u001b[m\u001b[K\n",
            "\u001b[m     45 root      20   0  161504  42868  12932 S   0.0  0.3   0:00.53 colab-fi+ \u001b[m\u001b[m\u001b[K\n",
            "\n",
            "\u001b[J\u001b[?1l\u001b>\u001b[25;1H\n",
            "\u001b[K"
          ]
        }
      ]
    },
    {
      "cell_type": "code",
      "source": [
        "!vmstat -s"
      ],
      "metadata": {
        "id": "WF4_QLzHYtbQ",
        "colab": {
          "base_uri": "https://localhost:8080/"
        },
        "outputId": "e6c88243-ff42-4545-a7d6-f8e3b4488378"
      },
      "execution_count": null,
      "outputs": [
        {
          "output_type": "stream",
          "name": "stdout",
          "text": [
            "     13297228 K total memory\n",
            "      1092660 K used memory\n",
            "       584912 K active memory\n",
            "      4553556 K inactive memory\n",
            "      7918516 K free memory\n",
            "       324516 K buffer memory\n",
            "      3961536 K swap cache\n",
            "            0 K total swap\n",
            "            0 K used swap\n",
            "            0 K free swap\n",
            "        30330 non-nice user cpu ticks\n",
            "            0 nice user cpu ticks\n",
            "         4354 system cpu ticks\n",
            "        62568 idle cpu ticks\n",
            "         2405 IO-wait cpu ticks\n",
            "            0 IRQ cpu ticks\n",
            "          190 softirq cpu ticks\n",
            "           43 stolen cpu ticks\n",
            "      4406694 pages paged in\n",
            "      1147189 pages paged out\n",
            "            0 pages swapped in\n",
            "            0 pages swapped out\n",
            "       832295 interrupts\n",
            "      1073289 CPU context switches\n",
            "   1669323239 boot time\n",
            "         6029 forks\n"
          ]
        }
      ]
    },
    {
      "cell_type": "code",
      "source": [
        "!df -h"
      ],
      "metadata": {
        "id": "pZVO6SGDYeo0",
        "colab": {
          "base_uri": "https://localhost:8080/"
        },
        "outputId": "823a1ed5-3183-4fc0-ee74-59aa7708faed"
      },
      "execution_count": null,
      "outputs": [
        {
          "output_type": "stream",
          "name": "stdout",
          "text": [
            "Filesystem      Size  Used Avail Use% Mounted on\n",
            "overlay         108G   23G   86G  21% /\n",
            "tmpfs            64M     0   64M   0% /dev\n",
            "shm             5.8G     0  5.8G   0% /dev/shm\n",
            "/dev/root       2.0G  1.1G  910M  54% /sbin/docker-init\n",
            "tmpfs           6.4G   36K  6.4G   1% /var/colab\n",
            "/dev/sda1        65G   40G   25G  62% /etc/hosts\n",
            "tmpfs           6.4G     0  6.4G   0% /proc/acpi\n",
            "tmpfs           6.4G     0  6.4G   0% /proc/scsi\n",
            "tmpfs           6.4G     0  6.4G   0% /sys/firmware\n"
          ]
        }
      ]
    },
    {
      "cell_type": "code",
      "source": [
        "!cat /proc/partitions"
      ],
      "metadata": {
        "id": "YYIpHueqYYj7",
        "colab": {
          "base_uri": "https://localhost:8080/"
        },
        "outputId": "f14b273a-649e-4ffb-a437-0117ff33901c"
      },
      "execution_count": null,
      "outputs": [
        {
          "output_type": "stream",
          "name": "stdout",
          "text": [
            "major minor  #blocks  name\n",
            "\n",
            "   7        0  115343360 loop0\n",
            "   8        0   73400320 sda\n",
            "   8        1   69048303 sda1\n",
            "   8        2      16384 sda2\n",
            "   8        3    2097152 sda3\n",
            "   8        4      16384 sda4\n",
            "   8        5    2097152 sda5\n",
            "   8        6          0 sda6\n",
            "   8        7          0 sda7\n",
            "   8        8      16384 sda8\n",
            "   8        9          0 sda9\n",
            "   8       10          0 sda10\n",
            "   8       11       8192 sda11\n",
            "   8       12      32768 sda12\n",
            " 253        0    2038784 dm-0\n"
          ]
        }
      ]
    },
    {
      "cell_type": "code",
      "source": [
        "!cat /proc/cpuinfo"
      ],
      "metadata": {
        "id": "GohSZiHOX2Ys",
        "colab": {
          "base_uri": "https://localhost:8080/"
        },
        "outputId": "214f0c5e-2ec8-4a63-ef66-a411586d22f9"
      },
      "execution_count": null,
      "outputs": [
        {
          "output_type": "stream",
          "name": "stdout",
          "text": [
            "processor\t: 0\n",
            "vendor_id\t: GenuineIntel\n",
            "cpu family\t: 6\n",
            "model\t\t: 79\n",
            "model name\t: Intel(R) Xeon(R) CPU @ 2.20GHz\n",
            "stepping\t: 0\n",
            "microcode\t: 0x1\n",
            "cpu MHz\t\t: 2199.998\n",
            "cache size\t: 56320 KB\n",
            "physical id\t: 0\n",
            "siblings\t: 2\n",
            "core id\t\t: 0\n",
            "cpu cores\t: 1\n",
            "apicid\t\t: 0\n",
            "initial apicid\t: 0\n",
            "fpu\t\t: yes\n",
            "fpu_exception\t: yes\n",
            "cpuid level\t: 13\n",
            "wp\t\t: yes\n",
            "flags\t\t: fpu vme de pse tsc msr pae mce cx8 apic sep mtrr pge mca cmov pat pse36 clflush mmx fxsr sse sse2 ss ht syscall nx pdpe1gb rdtscp lm constant_tsc rep_good nopl xtopology nonstop_tsc cpuid tsc_known_freq pni pclmulqdq ssse3 fma cx16 pcid sse4_1 sse4_2 x2apic movbe popcnt aes xsave avx f16c rdrand hypervisor lahf_lm abm 3dnowprefetch invpcid_single ssbd ibrs ibpb stibp fsgsbase tsc_adjust bmi1 hle avx2 smep bmi2 erms invpcid rtm rdseed adx smap xsaveopt arat md_clear arch_capabilities\n",
            "bugs\t\t: cpu_meltdown spectre_v1 spectre_v2 spec_store_bypass l1tf mds swapgs taa mmio_stale_data retbleed\n",
            "bogomips\t: 4399.99\n",
            "clflush size\t: 64\n",
            "cache_alignment\t: 64\n",
            "address sizes\t: 46 bits physical, 48 bits virtual\n",
            "power management:\n",
            "\n",
            "processor\t: 1\n",
            "vendor_id\t: GenuineIntel\n",
            "cpu family\t: 6\n",
            "model\t\t: 79\n",
            "model name\t: Intel(R) Xeon(R) CPU @ 2.20GHz\n",
            "stepping\t: 0\n",
            "microcode\t: 0x1\n",
            "cpu MHz\t\t: 2199.998\n",
            "cache size\t: 56320 KB\n",
            "physical id\t: 0\n",
            "siblings\t: 2\n",
            "core id\t\t: 0\n",
            "cpu cores\t: 1\n",
            "apicid\t\t: 1\n",
            "initial apicid\t: 1\n",
            "fpu\t\t: yes\n",
            "fpu_exception\t: yes\n",
            "cpuid level\t: 13\n",
            "wp\t\t: yes\n",
            "flags\t\t: fpu vme de pse tsc msr pae mce cx8 apic sep mtrr pge mca cmov pat pse36 clflush mmx fxsr sse sse2 ss ht syscall nx pdpe1gb rdtscp lm constant_tsc rep_good nopl xtopology nonstop_tsc cpuid tsc_known_freq pni pclmulqdq ssse3 fma cx16 pcid sse4_1 sse4_2 x2apic movbe popcnt aes xsave avx f16c rdrand hypervisor lahf_lm abm 3dnowprefetch invpcid_single ssbd ibrs ibpb stibp fsgsbase tsc_adjust bmi1 hle avx2 smep bmi2 erms invpcid rtm rdseed adx smap xsaveopt arat md_clear arch_capabilities\n",
            "bugs\t\t: cpu_meltdown spectre_v1 spectre_v2 spec_store_bypass l1tf mds swapgs taa mmio_stale_data retbleed\n",
            "bogomips\t: 4399.99\n",
            "clflush size\t: 64\n",
            "cache_alignment\t: 64\n",
            "address sizes\t: 46 bits physical, 48 bits virtual\n",
            "power management:\n",
            "\n"
          ]
        }
      ]
    }
  ]
}